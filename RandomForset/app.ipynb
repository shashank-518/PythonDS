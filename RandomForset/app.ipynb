{
 "cells": [
  {
   "cell_type": "code",
   "execution_count": 2,
   "id": "c93eabfc",
   "metadata": {},
   "outputs": [],
   "source": [
    "import pandas as pd\n",
    "import numpy as np\n",
    "import matplotlib.pyplot as plt\n",
    "import warnings\n",
    "warnings.filterwarnings(\"ignore\")"
   ]
  },
  {
   "cell_type": "code",
   "execution_count": 3,
   "id": "40c351c8",
   "metadata": {},
   "outputs": [],
   "source": [
    "df = pd.read_csv('Travel.csv')"
   ]
  },
  {
   "cell_type": "code",
   "execution_count": 4,
   "id": "fdbe1770",
   "metadata": {},
   "outputs": [
    {
     "data": {
      "text/html": [
       "<div>\n",
       "<style scoped>\n",
       "    .dataframe tbody tr th:only-of-type {\n",
       "        vertical-align: middle;\n",
       "    }\n",
       "\n",
       "    .dataframe tbody tr th {\n",
       "        vertical-align: top;\n",
       "    }\n",
       "\n",
       "    .dataframe thead th {\n",
       "        text-align: right;\n",
       "    }\n",
       "</style>\n",
       "<table border=\"1\" class=\"dataframe\">\n",
       "  <thead>\n",
       "    <tr style=\"text-align: right;\">\n",
       "      <th></th>\n",
       "      <th>CustomerID</th>\n",
       "      <th>ProdTaken</th>\n",
       "      <th>Age</th>\n",
       "      <th>TypeofContact</th>\n",
       "      <th>CityTier</th>\n",
       "      <th>DurationOfPitch</th>\n",
       "      <th>Occupation</th>\n",
       "      <th>Gender</th>\n",
       "      <th>NumberOfPersonVisiting</th>\n",
       "      <th>NumberOfFollowups</th>\n",
       "      <th>ProductPitched</th>\n",
       "      <th>PreferredPropertyStar</th>\n",
       "      <th>MaritalStatus</th>\n",
       "      <th>NumberOfTrips</th>\n",
       "      <th>Passport</th>\n",
       "      <th>PitchSatisfactionScore</th>\n",
       "      <th>OwnCar</th>\n",
       "      <th>NumberOfChildrenVisiting</th>\n",
       "      <th>Designation</th>\n",
       "      <th>MonthlyIncome</th>\n",
       "    </tr>\n",
       "  </thead>\n",
       "  <tbody>\n",
       "    <tr>\n",
       "      <th>0</th>\n",
       "      <td>200000</td>\n",
       "      <td>1</td>\n",
       "      <td>41.0</td>\n",
       "      <td>Self Enquiry</td>\n",
       "      <td>3</td>\n",
       "      <td>6.0</td>\n",
       "      <td>Salaried</td>\n",
       "      <td>Female</td>\n",
       "      <td>3</td>\n",
       "      <td>3.0</td>\n",
       "      <td>Deluxe</td>\n",
       "      <td>3.0</td>\n",
       "      <td>Single</td>\n",
       "      <td>1.0</td>\n",
       "      <td>1</td>\n",
       "      <td>2</td>\n",
       "      <td>1</td>\n",
       "      <td>0.0</td>\n",
       "      <td>Manager</td>\n",
       "      <td>20993.0</td>\n",
       "    </tr>\n",
       "    <tr>\n",
       "      <th>1</th>\n",
       "      <td>200001</td>\n",
       "      <td>0</td>\n",
       "      <td>49.0</td>\n",
       "      <td>Company Invited</td>\n",
       "      <td>1</td>\n",
       "      <td>14.0</td>\n",
       "      <td>Salaried</td>\n",
       "      <td>Male</td>\n",
       "      <td>3</td>\n",
       "      <td>4.0</td>\n",
       "      <td>Deluxe</td>\n",
       "      <td>4.0</td>\n",
       "      <td>Divorced</td>\n",
       "      <td>2.0</td>\n",
       "      <td>0</td>\n",
       "      <td>3</td>\n",
       "      <td>1</td>\n",
       "      <td>2.0</td>\n",
       "      <td>Manager</td>\n",
       "      <td>20130.0</td>\n",
       "    </tr>\n",
       "    <tr>\n",
       "      <th>2</th>\n",
       "      <td>200002</td>\n",
       "      <td>1</td>\n",
       "      <td>37.0</td>\n",
       "      <td>Self Enquiry</td>\n",
       "      <td>1</td>\n",
       "      <td>8.0</td>\n",
       "      <td>Free Lancer</td>\n",
       "      <td>Male</td>\n",
       "      <td>3</td>\n",
       "      <td>4.0</td>\n",
       "      <td>Basic</td>\n",
       "      <td>3.0</td>\n",
       "      <td>Single</td>\n",
       "      <td>7.0</td>\n",
       "      <td>1</td>\n",
       "      <td>3</td>\n",
       "      <td>0</td>\n",
       "      <td>0.0</td>\n",
       "      <td>Executive</td>\n",
       "      <td>17090.0</td>\n",
       "    </tr>\n",
       "    <tr>\n",
       "      <th>3</th>\n",
       "      <td>200003</td>\n",
       "      <td>0</td>\n",
       "      <td>33.0</td>\n",
       "      <td>Company Invited</td>\n",
       "      <td>1</td>\n",
       "      <td>9.0</td>\n",
       "      <td>Salaried</td>\n",
       "      <td>Female</td>\n",
       "      <td>2</td>\n",
       "      <td>3.0</td>\n",
       "      <td>Basic</td>\n",
       "      <td>3.0</td>\n",
       "      <td>Divorced</td>\n",
       "      <td>2.0</td>\n",
       "      <td>1</td>\n",
       "      <td>5</td>\n",
       "      <td>1</td>\n",
       "      <td>1.0</td>\n",
       "      <td>Executive</td>\n",
       "      <td>17909.0</td>\n",
       "    </tr>\n",
       "    <tr>\n",
       "      <th>4</th>\n",
       "      <td>200004</td>\n",
       "      <td>0</td>\n",
       "      <td>NaN</td>\n",
       "      <td>Self Enquiry</td>\n",
       "      <td>1</td>\n",
       "      <td>8.0</td>\n",
       "      <td>Small Business</td>\n",
       "      <td>Male</td>\n",
       "      <td>2</td>\n",
       "      <td>3.0</td>\n",
       "      <td>Basic</td>\n",
       "      <td>4.0</td>\n",
       "      <td>Divorced</td>\n",
       "      <td>1.0</td>\n",
       "      <td>0</td>\n",
       "      <td>5</td>\n",
       "      <td>1</td>\n",
       "      <td>0.0</td>\n",
       "      <td>Executive</td>\n",
       "      <td>18468.0</td>\n",
       "    </tr>\n",
       "  </tbody>\n",
       "</table>\n",
       "</div>"
      ],
      "text/plain": [
       "   CustomerID  ProdTaken  ...  Designation MonthlyIncome\n",
       "0      200000          1  ...      Manager       20993.0\n",
       "1      200001          0  ...      Manager       20130.0\n",
       "2      200002          1  ...    Executive       17090.0\n",
       "3      200003          0  ...    Executive       17909.0\n",
       "4      200004          0  ...    Executive       18468.0\n",
       "\n",
       "[5 rows x 20 columns]"
      ]
     },
     "execution_count": 4,
     "metadata": {},
     "output_type": "execute_result"
    }
   ],
   "source": [
    "df.head()"
   ]
  },
  {
   "cell_type": "code",
   "execution_count": 5,
   "id": "508549df",
   "metadata": {},
   "outputs": [
    {
     "name": "stdout",
     "output_type": "stream",
     "text": [
      "<class 'pandas.core.frame.DataFrame'>\n",
      "RangeIndex: 4888 entries, 0 to 4887\n",
      "Data columns (total 20 columns):\n",
      " #   Column                    Non-Null Count  Dtype  \n",
      "---  ------                    --------------  -----  \n",
      " 0   CustomerID                4888 non-null   int64  \n",
      " 1   ProdTaken                 4888 non-null   int64  \n",
      " 2   Age                       4662 non-null   float64\n",
      " 3   TypeofContact             4863 non-null   object \n",
      " 4   CityTier                  4888 non-null   int64  \n",
      " 5   DurationOfPitch           4637 non-null   float64\n",
      " 6   Occupation                4888 non-null   object \n",
      " 7   Gender                    4888 non-null   object \n",
      " 8   NumberOfPersonVisiting    4888 non-null   int64  \n",
      " 9   NumberOfFollowups         4843 non-null   float64\n",
      " 10  ProductPitched            4888 non-null   object \n",
      " 11  PreferredPropertyStar     4862 non-null   float64\n",
      " 12  MaritalStatus             4888 non-null   object \n",
      " 13  NumberOfTrips             4748 non-null   float64\n",
      " 14  Passport                  4888 non-null   int64  \n",
      " 15  PitchSatisfactionScore    4888 non-null   int64  \n",
      " 16  OwnCar                    4888 non-null   int64  \n",
      " 17  NumberOfChildrenVisiting  4822 non-null   float64\n",
      " 18  Designation               4888 non-null   object \n",
      " 19  MonthlyIncome             4655 non-null   float64\n",
      "dtypes: float64(7), int64(7), object(6)\n",
      "memory usage: 763.9+ KB\n"
     ]
    }
   ],
   "source": [
    "df.info()"
   ]
  },
  {
   "cell_type": "code",
   "execution_count": 6,
   "id": "a2eb4d3e",
   "metadata": {},
   "outputs": [
    {
     "data": {
      "text/plain": [
       "CustomerID                    0\n",
       "ProdTaken                     0\n",
       "Age                         226\n",
       "TypeofContact                25\n",
       "CityTier                      0\n",
       "DurationOfPitch             251\n",
       "Occupation                    0\n",
       "Gender                        0\n",
       "NumberOfPersonVisiting        0\n",
       "NumberOfFollowups            45\n",
       "ProductPitched                0\n",
       "PreferredPropertyStar        26\n",
       "MaritalStatus                 0\n",
       "NumberOfTrips               140\n",
       "Passport                      0\n",
       "PitchSatisfactionScore        0\n",
       "OwnCar                        0\n",
       "NumberOfChildrenVisiting     66\n",
       "Designation                   0\n",
       "MonthlyIncome               233\n",
       "dtype: int64"
      ]
     },
     "execution_count": 6,
     "metadata": {},
     "output_type": "execute_result"
    }
   ],
   "source": [
    "df.isnull().sum()"
   ]
  },
  {
   "cell_type": "code",
   "execution_count": 7,
   "id": "dd8890d9",
   "metadata": {},
   "outputs": [
    {
     "data": {
      "text/plain": [
       "Gender\n",
       "Male       2916\n",
       "Female     1817\n",
       "Fe Male     155\n",
       "Name: count, dtype: int64"
      ]
     },
     "execution_count": 7,
     "metadata": {},
     "output_type": "execute_result"
    }
   ],
   "source": [
    "df['Gender'].value_counts()"
   ]
  },
  {
   "cell_type": "code",
   "execution_count": 8,
   "id": "27f99c95",
   "metadata": {},
   "outputs": [],
   "source": [
    "df['Gender'] = df['Gender'].replace('Fe Male', 'Female')"
   ]
  },
  {
   "cell_type": "code",
   "execution_count": 9,
   "id": "55cb1eeb",
   "metadata": {},
   "outputs": [
    {
     "data": {
      "text/plain": [
       "Gender\n",
       "Male      2916\n",
       "Female    1972\n",
       "Name: count, dtype: int64"
      ]
     },
     "execution_count": 9,
     "metadata": {},
     "output_type": "execute_result"
    }
   ],
   "source": [
    "df['Gender'].value_counts()"
   ]
  },
  {
   "cell_type": "code",
   "execution_count": 10,
   "id": "665325b1",
   "metadata": {},
   "outputs": [
    {
     "data": {
      "text/plain": [
       "MaritalStatus\n",
       "Married      2340\n",
       "Divorced      950\n",
       "Single        916\n",
       "Unmarried     682\n",
       "Name: count, dtype: int64"
      ]
     },
     "execution_count": 10,
     "metadata": {},
     "output_type": "execute_result"
    }
   ],
   "source": [
    "df['MaritalStatus'].value_counts()"
   ]
  },
  {
   "cell_type": "code",
   "execution_count": 11,
   "id": "80a2106d",
   "metadata": {},
   "outputs": [],
   "source": [
    "df['MaritalStatus'] = df['MaritalStatus'].replace('Single', 'Unmarried')"
   ]
  },
  {
   "cell_type": "code",
   "execution_count": 12,
   "id": "f0586343",
   "metadata": {},
   "outputs": [
    {
     "data": {
      "text/plain": [
       "MaritalStatus\n",
       "Married      2340\n",
       "Unmarried    1598\n",
       "Divorced      950\n",
       "Name: count, dtype: int64"
      ]
     },
     "execution_count": 12,
     "metadata": {},
     "output_type": "execute_result"
    }
   ],
   "source": [
    "df['MaritalStatus'].value_counts()"
   ]
  },
  {
   "cell_type": "code",
   "execution_count": 13,
   "id": "8000c19c",
   "metadata": {},
   "outputs": [],
   "source": [
    "df['Age'].fillna(df.Age.median(), inplace=True)"
   ]
  },
  {
   "cell_type": "code",
   "execution_count": 14,
   "id": "cc0f8875",
   "metadata": {},
   "outputs": [
    {
     "data": {
      "text/plain": [
       "np.int64(0)"
      ]
     },
     "execution_count": 14,
     "metadata": {},
     "output_type": "execute_result"
    }
   ],
   "source": [
    "df['Age'].isnull().sum()"
   ]
  },
  {
   "cell_type": "code",
   "execution_count": 15,
   "id": "92d91de0",
   "metadata": {},
   "outputs": [
    {
     "data": {
      "text/plain": [
       "TypeofContact\n",
       "Self Enquiry       3444\n",
       "Company Invited    1419\n",
       "Name: count, dtype: int64"
      ]
     },
     "execution_count": 15,
     "metadata": {},
     "output_type": "execute_result"
    }
   ],
   "source": [
    "df['TypeofContact'].value_counts()"
   ]
  },
  {
   "cell_type": "code",
   "execution_count": 16,
   "id": "9ff930ce",
   "metadata": {},
   "outputs": [],
   "source": [
    "df['TypeofContact'].fillna(df['TypeofContact'].mode()[0] , inplace=True)"
   ]
  },
  {
   "cell_type": "code",
   "execution_count": 17,
   "id": "1225c803",
   "metadata": {},
   "outputs": [
    {
     "data": {
      "text/plain": [
       "np.int64(0)"
      ]
     },
     "execution_count": 17,
     "metadata": {},
     "output_type": "execute_result"
    }
   ],
   "source": [
    "df['TypeofContact'].isnull().sum()"
   ]
  },
  {
   "cell_type": "code",
   "execution_count": 18,
   "id": "e319a296",
   "metadata": {},
   "outputs": [
    {
     "data": {
      "text/plain": [
       "np.int64(251)"
      ]
     },
     "execution_count": 18,
     "metadata": {},
     "output_type": "execute_result"
    }
   ],
   "source": [
    "df['DurationOfPitch'].isnull().sum()"
   ]
  },
  {
   "cell_type": "code",
   "execution_count": 19,
   "id": "e8aad052",
   "metadata": {},
   "outputs": [],
   "source": [
    "df['DurationOfPitch'].fillna(df['DurationOfPitch'].median(), inplace=True)"
   ]
  },
  {
   "cell_type": "code",
   "execution_count": 20,
   "id": "0ed77491",
   "metadata": {},
   "outputs": [],
   "source": [
    "df['NumberOfFollowups'].fillna(df['NumberOfFollowups'].mode()[0] , inplace=True)"
   ]
  },
  {
   "cell_type": "code",
   "execution_count": 21,
   "id": "c5419074",
   "metadata": {},
   "outputs": [
    {
     "data": {
      "text/plain": [
       "np.int64(0)"
      ]
     },
     "execution_count": 21,
     "metadata": {},
     "output_type": "execute_result"
    }
   ],
   "source": [
    "df['NumberOfFollowups'].isnull().sum()"
   ]
  },
  {
   "cell_type": "code",
   "execution_count": 22,
   "id": "391523e3",
   "metadata": {},
   "outputs": [
    {
     "data": {
      "text/plain": [
       "dtype('float64')"
      ]
     },
     "execution_count": 22,
     "metadata": {},
     "output_type": "execute_result"
    }
   ],
   "source": [
    "df['PreferredPropertyStar'].dtype"
   ]
  },
  {
   "cell_type": "code",
   "execution_count": 23,
   "id": "6286ad77",
   "metadata": {},
   "outputs": [
    {
     "data": {
      "text/plain": [
       "PreferredPropertyStar\n",
       "3.0    2993\n",
       "5.0     956\n",
       "4.0     913\n",
       "Name: count, dtype: int64"
      ]
     },
     "execution_count": 23,
     "metadata": {},
     "output_type": "execute_result"
    }
   ],
   "source": [
    "df['PreferredPropertyStar'].value_counts()"
   ]
  },
  {
   "cell_type": "code",
   "execution_count": 24,
   "id": "4ba3fac7",
   "metadata": {},
   "outputs": [],
   "source": [
    "df['PreferredPropertyStar'].fillna(df['PreferredPropertyStar'].mode()[0], inplace=True)"
   ]
  },
  {
   "cell_type": "code",
   "execution_count": 25,
   "id": "45550d96",
   "metadata": {},
   "outputs": [
    {
     "data": {
      "text/plain": [
       "dtype('float64')"
      ]
     },
     "execution_count": 25,
     "metadata": {},
     "output_type": "execute_result"
    }
   ],
   "source": [
    "df['NumberOfTrips'].dtype"
   ]
  },
  {
   "cell_type": "code",
   "execution_count": 26,
   "id": "bf02ac5d",
   "metadata": {},
   "outputs": [
    {
     "data": {
      "text/plain": [
       "NumberOfTrips\n",
       "2.0     1464\n",
       "3.0     1079\n",
       "1.0      620\n",
       "4.0      478\n",
       "5.0      458\n",
       "6.0      322\n",
       "7.0      218\n",
       "8.0      105\n",
       "19.0       1\n",
       "21.0       1\n",
       "20.0       1\n",
       "22.0       1\n",
       "Name: count, dtype: int64"
      ]
     },
     "execution_count": 26,
     "metadata": {},
     "output_type": "execute_result"
    }
   ],
   "source": [
    "df['NumberOfTrips'].value_counts()"
   ]
  },
  {
   "cell_type": "code",
   "execution_count": 27,
   "id": "027d5c96",
   "metadata": {},
   "outputs": [],
   "source": [
    "df['NumberOfTrips'].fillna(df['NumberOfTrips'].median(),inplace=True)"
   ]
  },
  {
   "cell_type": "code",
   "execution_count": 28,
   "id": "b4c4658d",
   "metadata": {},
   "outputs": [
    {
     "data": {
      "text/plain": [
       "dtype('float64')"
      ]
     },
     "execution_count": 28,
     "metadata": {},
     "output_type": "execute_result"
    }
   ],
   "source": [
    "df['NumberOfChildrenVisiting'].dtype"
   ]
  },
  {
   "cell_type": "code",
   "execution_count": 29,
   "id": "1bd8812f",
   "metadata": {},
   "outputs": [
    {
     "data": {
      "text/plain": [
       "NumberOfChildrenVisiting\n",
       "1.0    2080\n",
       "2.0    1335\n",
       "0.0    1082\n",
       "3.0     325\n",
       "Name: count, dtype: int64"
      ]
     },
     "execution_count": 29,
     "metadata": {},
     "output_type": "execute_result"
    }
   ],
   "source": [
    "df['NumberOfChildrenVisiting'].value_counts()"
   ]
  },
  {
   "cell_type": "code",
   "execution_count": 30,
   "id": "7e37bb0f",
   "metadata": {},
   "outputs": [],
   "source": [
    "df['NumberOfChildrenVisiting'].fillna(df['NumberOfChildrenVisiting'].mode()[0] , inplace=True)"
   ]
  },
  {
   "cell_type": "code",
   "execution_count": 31,
   "id": "20bb39b3",
   "metadata": {},
   "outputs": [],
   "source": [
    "df['MonthlyIncome'].fillna(df['MonthlyIncome'].median(), inplace=True)"
   ]
  },
  {
   "cell_type": "code",
   "execution_count": 32,
   "id": "19209af6",
   "metadata": {},
   "outputs": [
    {
     "data": {
      "text/plain": [
       "CustomerID                  0\n",
       "ProdTaken                   0\n",
       "Age                         0\n",
       "TypeofContact               0\n",
       "CityTier                    0\n",
       "DurationOfPitch             0\n",
       "Occupation                  0\n",
       "Gender                      0\n",
       "NumberOfPersonVisiting      0\n",
       "NumberOfFollowups           0\n",
       "ProductPitched              0\n",
       "PreferredPropertyStar       0\n",
       "MaritalStatus               0\n",
       "NumberOfTrips               0\n",
       "Passport                    0\n",
       "PitchSatisfactionScore      0\n",
       "OwnCar                      0\n",
       "NumberOfChildrenVisiting    0\n",
       "Designation                 0\n",
       "MonthlyIncome               0\n",
       "dtype: int64"
      ]
     },
     "execution_count": 32,
     "metadata": {},
     "output_type": "execute_result"
    }
   ],
   "source": [
    "df.isnull().sum()"
   ]
  },
  {
   "cell_type": "code",
   "execution_count": 33,
   "id": "f21714d8",
   "metadata": {},
   "outputs": [],
   "source": [
    "df.drop('CustomerID' , inplace=True, axis=1)"
   ]
  },
  {
   "cell_type": "code",
   "execution_count": 34,
   "id": "f4cff712",
   "metadata": {},
   "outputs": [
    {
     "data": {
      "text/html": [
       "<div>\n",
       "<style scoped>\n",
       "    .dataframe tbody tr th:only-of-type {\n",
       "        vertical-align: middle;\n",
       "    }\n",
       "\n",
       "    .dataframe tbody tr th {\n",
       "        vertical-align: top;\n",
       "    }\n",
       "\n",
       "    .dataframe thead th {\n",
       "        text-align: right;\n",
       "    }\n",
       "</style>\n",
       "<table border=\"1\" class=\"dataframe\">\n",
       "  <thead>\n",
       "    <tr style=\"text-align: right;\">\n",
       "      <th></th>\n",
       "      <th>ProdTaken</th>\n",
       "      <th>Age</th>\n",
       "      <th>TypeofContact</th>\n",
       "      <th>CityTier</th>\n",
       "      <th>DurationOfPitch</th>\n",
       "      <th>Occupation</th>\n",
       "      <th>Gender</th>\n",
       "      <th>NumberOfPersonVisiting</th>\n",
       "      <th>NumberOfFollowups</th>\n",
       "      <th>ProductPitched</th>\n",
       "      <th>PreferredPropertyStar</th>\n",
       "      <th>MaritalStatus</th>\n",
       "      <th>NumberOfTrips</th>\n",
       "      <th>Passport</th>\n",
       "      <th>PitchSatisfactionScore</th>\n",
       "      <th>OwnCar</th>\n",
       "      <th>NumberOfChildrenVisiting</th>\n",
       "      <th>Designation</th>\n",
       "      <th>MonthlyIncome</th>\n",
       "    </tr>\n",
       "  </thead>\n",
       "  <tbody>\n",
       "    <tr>\n",
       "      <th>0</th>\n",
       "      <td>1</td>\n",
       "      <td>41.0</td>\n",
       "      <td>Self Enquiry</td>\n",
       "      <td>3</td>\n",
       "      <td>6.0</td>\n",
       "      <td>Salaried</td>\n",
       "      <td>Female</td>\n",
       "      <td>3</td>\n",
       "      <td>3.0</td>\n",
       "      <td>Deluxe</td>\n",
       "      <td>3.0</td>\n",
       "      <td>Unmarried</td>\n",
       "      <td>1.0</td>\n",
       "      <td>1</td>\n",
       "      <td>2</td>\n",
       "      <td>1</td>\n",
       "      <td>0.0</td>\n",
       "      <td>Manager</td>\n",
       "      <td>20993.0</td>\n",
       "    </tr>\n",
       "    <tr>\n",
       "      <th>1</th>\n",
       "      <td>0</td>\n",
       "      <td>49.0</td>\n",
       "      <td>Company Invited</td>\n",
       "      <td>1</td>\n",
       "      <td>14.0</td>\n",
       "      <td>Salaried</td>\n",
       "      <td>Male</td>\n",
       "      <td>3</td>\n",
       "      <td>4.0</td>\n",
       "      <td>Deluxe</td>\n",
       "      <td>4.0</td>\n",
       "      <td>Divorced</td>\n",
       "      <td>2.0</td>\n",
       "      <td>0</td>\n",
       "      <td>3</td>\n",
       "      <td>1</td>\n",
       "      <td>2.0</td>\n",
       "      <td>Manager</td>\n",
       "      <td>20130.0</td>\n",
       "    </tr>\n",
       "    <tr>\n",
       "      <th>2</th>\n",
       "      <td>1</td>\n",
       "      <td>37.0</td>\n",
       "      <td>Self Enquiry</td>\n",
       "      <td>1</td>\n",
       "      <td>8.0</td>\n",
       "      <td>Free Lancer</td>\n",
       "      <td>Male</td>\n",
       "      <td>3</td>\n",
       "      <td>4.0</td>\n",
       "      <td>Basic</td>\n",
       "      <td>3.0</td>\n",
       "      <td>Unmarried</td>\n",
       "      <td>7.0</td>\n",
       "      <td>1</td>\n",
       "      <td>3</td>\n",
       "      <td>0</td>\n",
       "      <td>0.0</td>\n",
       "      <td>Executive</td>\n",
       "      <td>17090.0</td>\n",
       "    </tr>\n",
       "    <tr>\n",
       "      <th>3</th>\n",
       "      <td>0</td>\n",
       "      <td>33.0</td>\n",
       "      <td>Company Invited</td>\n",
       "      <td>1</td>\n",
       "      <td>9.0</td>\n",
       "      <td>Salaried</td>\n",
       "      <td>Female</td>\n",
       "      <td>2</td>\n",
       "      <td>3.0</td>\n",
       "      <td>Basic</td>\n",
       "      <td>3.0</td>\n",
       "      <td>Divorced</td>\n",
       "      <td>2.0</td>\n",
       "      <td>1</td>\n",
       "      <td>5</td>\n",
       "      <td>1</td>\n",
       "      <td>1.0</td>\n",
       "      <td>Executive</td>\n",
       "      <td>17909.0</td>\n",
       "    </tr>\n",
       "    <tr>\n",
       "      <th>4</th>\n",
       "      <td>0</td>\n",
       "      <td>36.0</td>\n",
       "      <td>Self Enquiry</td>\n",
       "      <td>1</td>\n",
       "      <td>8.0</td>\n",
       "      <td>Small Business</td>\n",
       "      <td>Male</td>\n",
       "      <td>2</td>\n",
       "      <td>3.0</td>\n",
       "      <td>Basic</td>\n",
       "      <td>4.0</td>\n",
       "      <td>Divorced</td>\n",
       "      <td>1.0</td>\n",
       "      <td>0</td>\n",
       "      <td>5</td>\n",
       "      <td>1</td>\n",
       "      <td>0.0</td>\n",
       "      <td>Executive</td>\n",
       "      <td>18468.0</td>\n",
       "    </tr>\n",
       "  </tbody>\n",
       "</table>\n",
       "</div>"
      ],
      "text/plain": [
       "   ProdTaken   Age  ... Designation  MonthlyIncome\n",
       "0          1  41.0  ...     Manager        20993.0\n",
       "1          0  49.0  ...     Manager        20130.0\n",
       "2          1  37.0  ...   Executive        17090.0\n",
       "3          0  33.0  ...   Executive        17909.0\n",
       "4          0  36.0  ...   Executive        18468.0\n",
       "\n",
       "[5 rows x 19 columns]"
      ]
     },
     "execution_count": 34,
     "metadata": {},
     "output_type": "execute_result"
    }
   ],
   "source": [
    "df.head()"
   ]
  },
  {
   "cell_type": "code",
   "execution_count": 35,
   "id": "916bdf42",
   "metadata": {},
   "outputs": [],
   "source": [
    "df['TotalVisiting'] = df['NumberOfPersonVisiting'] + df['NumberOfChildrenVisiting']\n",
    "df.drop(columns=['NumberOfPersonVisiting', 'NumberOfChildrenVisiting'], inplace=True , axis=1)\n"
   ]
  },
  {
   "cell_type": "code",
   "execution_count": 36,
   "id": "01f16765",
   "metadata": {},
   "outputs": [
    {
     "data": {
      "text/html": [
       "<div>\n",
       "<style scoped>\n",
       "    .dataframe tbody tr th:only-of-type {\n",
       "        vertical-align: middle;\n",
       "    }\n",
       "\n",
       "    .dataframe tbody tr th {\n",
       "        vertical-align: top;\n",
       "    }\n",
       "\n",
       "    .dataframe thead th {\n",
       "        text-align: right;\n",
       "    }\n",
       "</style>\n",
       "<table border=\"1\" class=\"dataframe\">\n",
       "  <thead>\n",
       "    <tr style=\"text-align: right;\">\n",
       "      <th></th>\n",
       "      <th>ProdTaken</th>\n",
       "      <th>Age</th>\n",
       "      <th>TypeofContact</th>\n",
       "      <th>CityTier</th>\n",
       "      <th>DurationOfPitch</th>\n",
       "      <th>Occupation</th>\n",
       "      <th>Gender</th>\n",
       "      <th>NumberOfFollowups</th>\n",
       "      <th>ProductPitched</th>\n",
       "      <th>PreferredPropertyStar</th>\n",
       "      <th>MaritalStatus</th>\n",
       "      <th>NumberOfTrips</th>\n",
       "      <th>Passport</th>\n",
       "      <th>PitchSatisfactionScore</th>\n",
       "      <th>OwnCar</th>\n",
       "      <th>Designation</th>\n",
       "      <th>MonthlyIncome</th>\n",
       "      <th>TotalVisiting</th>\n",
       "    </tr>\n",
       "  </thead>\n",
       "  <tbody>\n",
       "    <tr>\n",
       "      <th>0</th>\n",
       "      <td>1</td>\n",
       "      <td>41.0</td>\n",
       "      <td>Self Enquiry</td>\n",
       "      <td>3</td>\n",
       "      <td>6.0</td>\n",
       "      <td>Salaried</td>\n",
       "      <td>Female</td>\n",
       "      <td>3.0</td>\n",
       "      <td>Deluxe</td>\n",
       "      <td>3.0</td>\n",
       "      <td>Unmarried</td>\n",
       "      <td>1.0</td>\n",
       "      <td>1</td>\n",
       "      <td>2</td>\n",
       "      <td>1</td>\n",
       "      <td>Manager</td>\n",
       "      <td>20993.0</td>\n",
       "      <td>3.0</td>\n",
       "    </tr>\n",
       "    <tr>\n",
       "      <th>1</th>\n",
       "      <td>0</td>\n",
       "      <td>49.0</td>\n",
       "      <td>Company Invited</td>\n",
       "      <td>1</td>\n",
       "      <td>14.0</td>\n",
       "      <td>Salaried</td>\n",
       "      <td>Male</td>\n",
       "      <td>4.0</td>\n",
       "      <td>Deluxe</td>\n",
       "      <td>4.0</td>\n",
       "      <td>Divorced</td>\n",
       "      <td>2.0</td>\n",
       "      <td>0</td>\n",
       "      <td>3</td>\n",
       "      <td>1</td>\n",
       "      <td>Manager</td>\n",
       "      <td>20130.0</td>\n",
       "      <td>5.0</td>\n",
       "    </tr>\n",
       "    <tr>\n",
       "      <th>2</th>\n",
       "      <td>1</td>\n",
       "      <td>37.0</td>\n",
       "      <td>Self Enquiry</td>\n",
       "      <td>1</td>\n",
       "      <td>8.0</td>\n",
       "      <td>Free Lancer</td>\n",
       "      <td>Male</td>\n",
       "      <td>4.0</td>\n",
       "      <td>Basic</td>\n",
       "      <td>3.0</td>\n",
       "      <td>Unmarried</td>\n",
       "      <td>7.0</td>\n",
       "      <td>1</td>\n",
       "      <td>3</td>\n",
       "      <td>0</td>\n",
       "      <td>Executive</td>\n",
       "      <td>17090.0</td>\n",
       "      <td>3.0</td>\n",
       "    </tr>\n",
       "    <tr>\n",
       "      <th>3</th>\n",
       "      <td>0</td>\n",
       "      <td>33.0</td>\n",
       "      <td>Company Invited</td>\n",
       "      <td>1</td>\n",
       "      <td>9.0</td>\n",
       "      <td>Salaried</td>\n",
       "      <td>Female</td>\n",
       "      <td>3.0</td>\n",
       "      <td>Basic</td>\n",
       "      <td>3.0</td>\n",
       "      <td>Divorced</td>\n",
       "      <td>2.0</td>\n",
       "      <td>1</td>\n",
       "      <td>5</td>\n",
       "      <td>1</td>\n",
       "      <td>Executive</td>\n",
       "      <td>17909.0</td>\n",
       "      <td>3.0</td>\n",
       "    </tr>\n",
       "    <tr>\n",
       "      <th>4</th>\n",
       "      <td>0</td>\n",
       "      <td>36.0</td>\n",
       "      <td>Self Enquiry</td>\n",
       "      <td>1</td>\n",
       "      <td>8.0</td>\n",
       "      <td>Small Business</td>\n",
       "      <td>Male</td>\n",
       "      <td>3.0</td>\n",
       "      <td>Basic</td>\n",
       "      <td>4.0</td>\n",
       "      <td>Divorced</td>\n",
       "      <td>1.0</td>\n",
       "      <td>0</td>\n",
       "      <td>5</td>\n",
       "      <td>1</td>\n",
       "      <td>Executive</td>\n",
       "      <td>18468.0</td>\n",
       "      <td>2.0</td>\n",
       "    </tr>\n",
       "  </tbody>\n",
       "</table>\n",
       "</div>"
      ],
      "text/plain": [
       "   ProdTaken   Age    TypeofContact  ...  Designation  MonthlyIncome TotalVisiting\n",
       "0          1  41.0     Self Enquiry  ...      Manager        20993.0           3.0\n",
       "1          0  49.0  Company Invited  ...      Manager        20130.0           5.0\n",
       "2          1  37.0     Self Enquiry  ...    Executive        17090.0           3.0\n",
       "3          0  33.0  Company Invited  ...    Executive        17909.0           3.0\n",
       "4          0  36.0     Self Enquiry  ...    Executive        18468.0           2.0\n",
       "\n",
       "[5 rows x 18 columns]"
      ]
     },
     "execution_count": 36,
     "metadata": {},
     "output_type": "execute_result"
    }
   ],
   "source": [
    "df.head()"
   ]
  },
  {
   "cell_type": "code",
   "execution_count": 37,
   "id": "3f472ce0",
   "metadata": {},
   "outputs": [
    {
     "name": "stdout",
     "output_type": "stream",
     "text": [
      "Number of Numerical Features: 12\n"
     ]
    }
   ],
   "source": [
    "num_feature = [features for features in df.columns if df[features].dtype != 'O']\n",
    "print(\"Number of Numerical Features:\", len(num_feature))"
   ]
  },
  {
   "cell_type": "code",
   "execution_count": 38,
   "id": "ae8aecd3",
   "metadata": {},
   "outputs": [
    {
     "name": "stdout",
     "output_type": "stream",
     "text": [
      "The number of Categorical features are:  6\n"
     ]
    }
   ],
   "source": [
    "Cat_feature = [feature for feature in df.columns if df[feature].dtype == 'O']\n",
    "print(\"The number of Categorical features are: \", len(Cat_feature))"
   ]
  },
  {
   "cell_type": "code",
   "execution_count": 39,
   "id": "da6a1bf7",
   "metadata": {},
   "outputs": [],
   "source": [
    "from sklearn.model_selection import train_test_split\n",
    "\n",
    "X = df.drop('ProdTaken' , axis=1)\n",
    "y = df['ProdTaken']"
   ]
  },
  {
   "cell_type": "code",
   "execution_count": 40,
   "id": "74819b74",
   "metadata": {},
   "outputs": [],
   "source": [
    "X_train, X_test, y_train, y_test = train_test_split(X, y, test_size=0.2, random_state=42)"
   ]
  },
  {
   "cell_type": "code",
   "execution_count": 41,
   "id": "7ffa34d1",
   "metadata": {},
   "outputs": [
    {
     "data": {
      "text/plain": [
       "((3910, 17), (3910,))"
      ]
     },
     "execution_count": 41,
     "metadata": {},
     "output_type": "execute_result"
    }
   ],
   "source": [
    "X_train.shape,y_train.shape"
   ]
  },
  {
   "cell_type": "code",
   "execution_count": 42,
   "id": "58b8f8ce",
   "metadata": {},
   "outputs": [],
   "source": [
    "from sklearn.preprocessing import OneHotEncoder,StandardScaler\n",
    "from sklearn.compose import ColumnTransformer\n",
    "\n",
    "cat_features = X.select_dtypes(include='object').columns\n",
    "num_features = X.select_dtypes(exclude='object').columns\n",
    "\n",
    "Scaler = StandardScaler()\n",
    "oh_encoder = OneHotEncoder(drop='first')\n",
    "\n",
    "ct = ColumnTransformer([\n",
    "('Standard', Scaler , num_features),\n",
    "('OneHot', oh_encoder, cat_features)\n",
    "])"
   ]
  },
  {
   "cell_type": "code",
   "execution_count": 43,
   "id": "87a4a326",
   "metadata": {},
   "outputs": [],
   "source": [
    "X_train = ct.fit_transform(X_train)\n",
    "X_test = ct.transform(X_test)"
   ]
  },
  {
   "cell_type": "code",
   "execution_count": 44,
   "id": "7255da04",
   "metadata": {},
   "outputs": [
    {
     "data": {
      "text/plain": [
       "array([[-0.15792615, -0.7214003 , -1.02034967, ...,  0.        ,\n",
       "         0.        ,  0.        ],\n",
       "       [ 0.50807196, -0.7214003 ,  0.69002334, ...,  0.        ,\n",
       "         0.        ,  0.        ],\n",
       "       [ 1.39606944, -0.7214003 , -1.02034967, ...,  0.        ,\n",
       "         0.        ,  0.        ],\n",
       "       ...,\n",
       "       [ 0.06407322,  1.45504659,  1.54520984, ...,  0.        ,\n",
       "         0.        ,  0.        ],\n",
       "       [-1.04592363,  1.45504659,  1.78954884, ...,  1.        ,\n",
       "         0.        ,  0.        ],\n",
       "       [-1.71192174, -0.7214003 , -0.77601067, ...,  0.        ,\n",
       "         0.        ,  0.        ]], shape=(3910, 26))"
      ]
     },
     "execution_count": 44,
     "metadata": {},
     "output_type": "execute_result"
    }
   ],
   "source": [
    "X_train"
   ]
  },
  {
   "cell_type": "code",
   "execution_count": 53,
   "id": "ebbb61f8",
   "metadata": {},
   "outputs": [
    {
     "name": "stdout",
     "output_type": "stream",
     "text": [
      "Collecting xgboost\n",
      "  Downloading xgboost-3.0.5-py3-none-win_amd64.whl.metadata (2.1 kB)\n",
      "Requirement already satisfied: numpy in c:\\users\\shash\\documents\\pythonbasics\\venv\\lib\\site-packages (from xgboost) (2.3.2)\n",
      "Requirement already satisfied: scipy in c:\\users\\shash\\documents\\pythonbasics\\venv\\lib\\site-packages (from xgboost) (1.16.1)\n",
      "Downloading xgboost-3.0.5-py3-none-win_amd64.whl (56.8 MB)\n",
      "   ---------------------------------------- 0.0/56.8 MB ? eta -:--:--\n",
      "   ---------------------------------------- 0.0/56.8 MB ? eta -:--:--\n",
      "   ---------------------------------------- 0.5/56.8 MB 1.5 MB/s eta 0:00:37\n",
      "    --------------------------------------- 0.8/56.8 MB 1.5 MB/s eta 0:00:39\n",
      "    --------------------------------------- 1.0/56.8 MB 1.7 MB/s eta 0:00:34\n",
      "    --------------------------------------- 1.3/56.8 MB 1.7 MB/s eta 0:00:33\n",
      "   - -------------------------------------- 1.6/56.8 MB 1.4 MB/s eta 0:00:40\n",
      "   - -------------------------------------- 2.1/56.8 MB 1.5 MB/s eta 0:00:37\n",
      "   - -------------------------------------- 2.6/56.8 MB 1.7 MB/s eta 0:00:33\n",
      "   -- ------------------------------------- 3.1/56.8 MB 1.8 MB/s eta 0:00:31\n",
      "   -- ------------------------------------- 3.9/56.8 MB 2.0 MB/s eta 0:00:27\n",
      "   --- ------------------------------------ 4.5/56.8 MB 2.1 MB/s eta 0:00:25\n",
      "   --- ------------------------------------ 4.7/56.8 MB 2.0 MB/s eta 0:00:27\n",
      "   --- ------------------------------------ 5.5/56.8 MB 2.1 MB/s eta 0:00:25\n",
      "   ---- ----------------------------------- 6.6/56.8 MB 2.3 MB/s eta 0:00:22\n",
      "   ----- ---------------------------------- 7.6/56.8 MB 2.5 MB/s eta 0:00:20\n",
      "   ------ --------------------------------- 8.9/56.8 MB 2.7 MB/s eta 0:00:18\n",
      "   ------- -------------------------------- 10.2/56.8 MB 3.0 MB/s eta 0:00:16\n",
      "   ------- -------------------------------- 10.7/56.8 MB 3.0 MB/s eta 0:00:16\n",
      "   -------- ------------------------------- 12.1/56.8 MB 3.1 MB/s eta 0:00:15\n",
      "   -------- ------------------------------- 12.6/56.8 MB 3.2 MB/s eta 0:00:14\n",
      "   --------- ------------------------------ 13.4/56.8 MB 3.1 MB/s eta 0:00:14\n",
      "   ---------- ----------------------------- 14.7/56.8 MB 3.2 MB/s eta 0:00:14\n",
      "   ----------- ---------------------------- 15.7/56.8 MB 3.3 MB/s eta 0:00:13\n",
      "   ----------- ---------------------------- 16.8/56.8 MB 3.4 MB/s eta 0:00:12\n",
      "   ------------ --------------------------- 17.6/56.8 MB 3.4 MB/s eta 0:00:12\n",
      "   ------------ --------------------------- 18.4/56.8 MB 3.4 MB/s eta 0:00:12\n",
      "   ------------- -------------------------- 19.7/56.8 MB 3.5 MB/s eta 0:00:11\n",
      "   -------------- ------------------------- 21.0/56.8 MB 3.6 MB/s eta 0:00:10\n",
      "   --------------- ------------------------ 22.5/56.8 MB 3.7 MB/s eta 0:00:10\n",
      "   ---------------- ----------------------- 24.1/56.8 MB 3.9 MB/s eta 0:00:09\n",
      "   ----------------- ---------------------- 25.4/56.8 MB 3.9 MB/s eta 0:00:08\n",
      "   ------------------- -------------------- 27.0/56.8 MB 4.0 MB/s eta 0:00:08\n",
      "   ------------------- -------------------- 28.3/56.8 MB 4.1 MB/s eta 0:00:07\n",
      "   -------------------- ------------------- 29.6/56.8 MB 4.2 MB/s eta 0:00:07\n",
      "   --------------------- ------------------ 30.9/56.8 MB 4.2 MB/s eta 0:00:07\n",
      "   ---------------------- ----------------- 32.5/56.8 MB 4.3 MB/s eta 0:00:06\n",
      "   ----------------------- ---------------- 33.8/56.8 MB 4.4 MB/s eta 0:00:06\n",
      "   ------------------------ --------------- 35.4/56.8 MB 4.4 MB/s eta 0:00:05\n",
      "   ------------------------- -------------- 36.7/56.8 MB 4.5 MB/s eta 0:00:05\n",
      "   -------------------------- ------------- 38.0/56.8 MB 4.5 MB/s eta 0:00:05\n",
      "   --------------------------- ------------ 39.6/56.8 MB 4.6 MB/s eta 0:00:04\n",
      "   ---------------------------- ----------- 40.9/56.8 MB 4.7 MB/s eta 0:00:04\n",
      "   ----------------------------- ---------- 42.2/56.8 MB 4.7 MB/s eta 0:00:04\n",
      "   ------------------------------ --------- 43.5/56.8 MB 4.7 MB/s eta 0:00:03\n",
      "   ------------------------------- -------- 44.6/56.8 MB 4.7 MB/s eta 0:00:03\n",
      "   -------------------------------- ------- 46.1/56.8 MB 4.8 MB/s eta 0:00:03\n",
      "   --------------------------------- ------ 47.4/56.8 MB 4.8 MB/s eta 0:00:02\n",
      "   ---------------------------------- ----- 48.8/56.8 MB 4.9 MB/s eta 0:00:02\n",
      "   ----------------------------------- ---- 50.3/56.8 MB 4.9 MB/s eta 0:00:02\n",
      "   ------------------------------------ --- 51.6/56.8 MB 4.9 MB/s eta 0:00:02\n",
      "   ------------------------------------- -- 53.0/56.8 MB 5.0 MB/s eta 0:00:01\n",
      "   -------------------------------------- - 54.5/56.8 MB 5.0 MB/s eta 0:00:01\n",
      "   ---------------------------------------  55.8/56.8 MB 5.0 MB/s eta 0:00:01\n",
      "   ---------------------------------------  56.6/56.8 MB 5.0 MB/s eta 0:00:01\n",
      "   ---------------------------------------- 56.8/56.8 MB 5.0 MB/s eta 0:00:00\n",
      "Installing collected packages: xgboost\n",
      "Successfully installed xgboost-3.0.5\n"
     ]
    }
   ],
   "source": [
    "!pip install xgboost"
   ]
  },
  {
   "cell_type": "code",
   "execution_count": 54,
   "id": "13b77c3e",
   "metadata": {},
   "outputs": [
    {
     "name": "stdout",
     "output_type": "stream",
     "text": [
      "Decision Tree\n",
      "Train Accuracy Score : 1.0\n",
      "Train F1 Score : 1.0\n",
      "Train Precision Score : 1.0\n",
      "Train Recall Score : 1.0\n",
      "Train AUC Score : 1.0\n",
      "Test Accuracy Score : 0.911042944785276\n",
      "Test F1 Score : 0.9094465998098705\n",
      "Test Precision Score : 0.7988505747126436\n",
      "Test Recall Score : 0.7277486910994765\n",
      "Test AUC Score : 0.841638005016066\n",
      "---------------Complete --------------------\n",
      "Random Forset\n",
      "Train Accuracy Score : 1.0\n",
      "Train F1 Score : 1.0\n",
      "Train Precision Score : 1.0\n",
      "Train Recall Score : 1.0\n",
      "Train AUC Score : 1.0\n",
      "Test Accuracy Score : 0.9243353783231084\n",
      "Test F1 Score : 0.9184391109294453\n",
      "Test Precision Score : 0.9534883720930233\n",
      "Test Recall Score : 0.643979057591623\n",
      "Test AUC Score : 0.8181775847043248\n",
      "---------------Complete --------------------\n",
      "Adaboost\n",
      "Train Accuracy Score : 0.8478260869565217\n",
      "Train F1 Score : 0.8146439190446891\n",
      "Train Precision Score : 0.7815126050420168\n",
      "Train Recall Score : 0.2551440329218107\n",
      "Train AUC Score : 0.6193984861245332\n",
      "Test Accuracy Score : 0.8353783231083844\n",
      "Test F1 Score : 0.7987434557925993\n",
      "Test Precision Score : 0.75\n",
      "Test Recall Score : 0.2356020942408377\n",
      "Test AUC Score : 0.6082711868917022\n",
      "---------------Complete --------------------\n",
      "Xgboost\n",
      "Train Accuracy Score : 0.99923273657289\n",
      "Train F1 Score : 0.9992321263958706\n",
      "Train Precision Score : 1.0\n",
      "Train Recall Score : 0.9958847736625515\n",
      "Train AUC Score : 0.9979423868312758\n",
      "Test Accuracy Score : 0.9355828220858896\n",
      "Test F1 Score : 0.9318158297553418\n",
      "Test Precision Score : 0.9507042253521126\n",
      "Test Recall Score : 0.7068062827225131\n",
      "Test AUC Score : 0.8489558732545222\n",
      "---------------Complete --------------------\n"
     ]
    }
   ],
   "source": [
    "from sklearn.ensemble import RandomForestClassifier,AdaBoostClassifier\n",
    "from sklearn.tree import DecisionTreeClassifier\n",
    "from xgboost import XGBClassifier\n",
    "from sklearn.metrics import accuracy_score,confusion_matrix,classification_report,precision_score,recall_score,f1_score,roc_auc_score\n",
    "\n",
    "models = {\n",
    "    \"Decision Tree\" : DecisionTreeClassifier(),\n",
    "    \"Random Forset\" : RandomForestClassifier(),\n",
    "    \"Adaboost\": AdaBoostClassifier(),\n",
    "    \"Xgboost\":XGBClassifier(),\n",
    "}\n",
    "\n",
    "for i in range(len(list(models))):\n",
    "    model = list(models.values())[i]\n",
    "\n",
    "    model.fit(X_train,y_train)\n",
    "\n",
    "    y_train_pred = model.predict(X_train)\n",
    "    y_test_pred = model.predict(X_test)\n",
    "\n",
    "\n",
    "    model_train_acc = accuracy_score(y_train,y_train_pred)\n",
    "    model_train_f1Score = f1_score(y_train,y_train_pred , average=\"weighted\")\n",
    "    model_train_precision = precision_score(y_train,y_train_pred)\n",
    "    model_train_recall = recall_score(y_train,y_train_pred)\n",
    "    model_train_aucScore = roc_auc_score(y_train,y_train_pred)\n",
    "\n",
    "    model_test_acc = accuracy_score(y_test,y_test_pred)\n",
    "    model_test_f1Score = f1_score(y_test,y_test_pred, average=\"weighted\")\n",
    "    model_test_precision = precision_score(y_test,y_test_pred)\n",
    "    model_test_recall = recall_score(y_test,y_test_pred)\n",
    "    model_test_aucScore = roc_auc_score(y_test,y_test_pred)\n",
    "\n",
    "    print(list(models.keys())[i])\n",
    "\n",
    "    print(f\"Train Accuracy Score : {model_train_acc}\")\n",
    "    print(f\"Train F1 Score : {model_train_f1Score}\")\n",
    "    print(f\"Train Precision Score : {model_train_precision}\")\n",
    "    print(f\"Train Recall Score : {model_train_recall}\")\n",
    "    print(f\"Train AUC Score : {model_train_aucScore}\")\n",
    "    \n",
    "\n",
    "    print(f\"Test Accuracy Score : {model_test_acc}\")\n",
    "    print(f\"Test F1 Score : {model_test_f1Score}\")\n",
    "    print(f\"Test Precision Score : {model_test_precision}\")\n",
    "    print(f\"Test Recall Score : {model_test_recall}\")\n",
    "    print(f\"Test AUC Score : {model_test_aucScore}\")\n",
    "\n",
    "    print(\"---------------Complete --------------------\")\n",
    "\n"
   ]
  },
  {
   "cell_type": "code",
   "execution_count": 51,
   "id": "902abb68",
   "metadata": {},
   "outputs": [
    {
     "name": "stdout",
     "output_type": "stream",
     "text": [
      "Collecting tabulate\n",
      "  Downloading tabulate-0.9.0-py3-none-any.whl.metadata (34 kB)\n",
      "Downloading tabulate-0.9.0-py3-none-any.whl (35 kB)\n",
      "Installing collected packages: tabulate\n",
      "Successfully installed tabulate-0.9.0\n",
      "Note: you may need to restart the kernel to use updated packages.\n"
     ]
    }
   ],
   "source": [
    "pip install tabulate"
   ]
  },
  {
   "cell_type": "code",
   "execution_count": 56,
   "id": "8f4f38fa",
   "metadata": {},
   "outputs": [
    {
     "name": "stdout",
     "output_type": "stream",
     "text": [
      "+---------------+-----------+----------+------------+--------------+-----------+----------+---------+-----------+-------------+----------+\n",
      "|     Model     | Train Acc | Train F1 | Train Prec | Train Recall | Train AUC | Test Acc | Test F1 | Test Prec | Test Recall | Test AUC |\n",
      "+---------------+-----------+----------+------------+--------------+-----------+----------+---------+-----------+-------------+----------+\n",
      "| Decision Tree |    1.0    |   1.0    |    1.0     |     1.0      |    1.0    |   0.92   |  0.92   |   0.82    |    0.79     |   0.87   |\n",
      "| Random Forset |    1.0    |   1.0    |    1.0     |     1.0      |    1.0    |   0.92   |  0.92   |   0.97    |    0.63     |   0.81   |\n",
      "|   Adaboost    |   0.85    |   0.81   |    0.78    |     0.26     |   0.62    |   0.84   |   0.8   |   0.75    |    0.24     |   0.61   |\n",
      "|    Xgboost    |    1.0    |   1.0    |    1.0     |     1.0      |    1.0    |   0.94   |  0.93   |   0.95    |    0.71     |   0.85   |\n",
      "+---------------+-----------+----------+------------+--------------+-----------+----------+---------+-----------+-------------+----------+\n"
     ]
    }
   ],
   "source": [
    "from tabulate import tabulate\n",
    "\n",
    "results = []\n",
    "\n",
    "for name, model in models.items():\n",
    "    model.fit(X_train, y_train)\n",
    "\n",
    "    y_train_pred = model.predict(X_train)\n",
    "    y_test_pred = model.predict(X_test)\n",
    "\n",
    "    results.append([\n",
    "         name,\n",
    "        round(accuracy_score(y_train, y_train_pred), 2),\n",
    "        round(f1_score(y_train, y_train_pred, average=\"weighted\"), 2),\n",
    "        round(precision_score(y_train, y_train_pred), 2),\n",
    "        round(recall_score(y_train, y_train_pred), 2),\n",
    "        round(roc_auc_score(y_train, y_train_pred), 2),\n",
    "        round(accuracy_score(y_test, y_test_pred), 2),\n",
    "        round(f1_score(y_test, y_test_pred, average=\"weighted\"), 2),\n",
    "        round(precision_score(y_test, y_test_pred), 2),\n",
    "        round(recall_score(y_test, y_test_pred), 2),\n",
    "        round(roc_auc_score(y_test, y_test_pred), 2)\n",
    "    ])\n",
    "\n",
    "headers = [\n",
    "    \"Model\",\n",
    "    \"Train Acc\", \"Train F1\", \"Train Prec\", \"Train Recall\", \"Train AUC\",\n",
    "    \"Test Acc\", \"Test F1\", \"Test Prec\", \"Test Recall\", \"Test AUC\"\n",
    "]\n",
    "\n",
    "print(tabulate(results, headers=headers, tablefmt=\"pretty\"))\n"
   ]
  },
  {
   "cell_type": "code",
   "execution_count": null,
   "id": "cdbbefd0",
   "metadata": {},
   "outputs": [],
   "source": []
  }
 ],
 "metadata": {
  "kernelspec": {
   "display_name": "Python 3",
   "language": "python",
   "name": "python3"
  },
  "language_info": {
   "codemirror_mode": {
    "name": "ipython",
    "version": 3
   },
   "file_extension": ".py",
   "mimetype": "text/x-python",
   "name": "python",
   "nbconvert_exporter": "python",
   "pygments_lexer": "ipython3",
   "version": "3.12.0"
  }
 },
 "nbformat": 4,
 "nbformat_minor": 5
}
