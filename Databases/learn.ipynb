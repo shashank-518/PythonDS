{
 "cells": [
  {
   "cell_type": "code",
   "execution_count": 1,
   "id": "d2120b57",
   "metadata": {},
   "outputs": [
    {
     "data": {
      "text/plain": [
       "<sqlite3.Connection at 0x2081a4156c0>"
      ]
     },
     "execution_count": 1,
     "metadata": {},
     "output_type": "execute_result"
    }
   ],
   "source": [
    "import sqlite3 as sql\n",
    "connection = sql.connect(\"example.db\")\n",
    "connection"
   ]
  },
  {
   "cell_type": "code",
   "execution_count": 3,
   "id": "d93aa848",
   "metadata": {},
   "outputs": [],
   "source": [
    "cursor = connection.cursor()\n",
    "\n",
    "cursor.execute('''\n",
    "\n",
    "    Create table if not exists employee(\n",
    "               id Integer Primary Key,\n",
    "               name text Not Null,\n",
    "               age Integer,\n",
    "               department text\n",
    "               )\n",
    "''')\n",
    "\n",
    "connection.commit()"
   ]
  },
  {
   "cell_type": "code",
   "execution_count": 6,
   "id": "49d6ea0e",
   "metadata": {},
   "outputs": [
    {
     "data": {
      "text/plain": [
       "<sqlite3.Cursor at 0x2081a8596c0>"
      ]
     },
     "execution_count": 6,
     "metadata": {},
     "output_type": "execute_result"
    }
   ],
   "source": [
    "cursor.execute(\"Select * from employee\")\n"
   ]
  },
  {
   "cell_type": "code",
   "execution_count": 8,
   "id": "7285389a",
   "metadata": {},
   "outputs": [],
   "source": [
    "cursor.execute('''\n",
    "\n",
    "    Insert into employee (id ,name, age, department)\n",
    "    values (1, 'Shashank', 21, 'AI Enginner')\n",
    "''')\n",
    "\n",
    "\n",
    "cursor.execute('''\n",
    "\n",
    "    Insert into employee (id ,name, age, department)\n",
    "    values (2, 'Shashu', 25, 'Full Stack Developer')\n",
    "''')\n",
    "\n",
    "cursor.execute('''\n",
    "\n",
    "    Insert into employee (id ,name, age, department)\n",
    "    values (3, 'Shreyas', 24, 'AI Enginner')\n",
    "''')\n",
    "\n",
    "connection.commit()"
   ]
  },
  {
   "cell_type": "code",
   "execution_count": 9,
   "id": "fe64f57c",
   "metadata": {},
   "outputs": [
    {
     "data": {
      "text/plain": [
       "<sqlite3.Cursor at 0x2081a8596c0>"
      ]
     },
     "execution_count": 9,
     "metadata": {},
     "output_type": "execute_result"
    }
   ],
   "source": [
    "cursor.execute(\"Select * from employee\")"
   ]
  },
  {
   "cell_type": "code",
   "execution_count": 10,
   "id": "d1ed9b36",
   "metadata": {},
   "outputs": [
    {
     "name": "stdout",
     "output_type": "stream",
     "text": [
      "[(1, 'Shashank', 21, 'AI Enginner'), (2, 'Shashu', 25, 'Full Stack Developer'), (3, 'Shreyas', 24, 'AI Enginner')]\n"
     ]
    }
   ],
   "source": [
    "rows = cursor.fetchall()\n",
    "print(rows)"
   ]
  },
  {
   "cell_type": "code",
   "execution_count": 11,
   "id": "e8c8e276",
   "metadata": {},
   "outputs": [
    {
     "name": "stdout",
     "output_type": "stream",
     "text": [
      "(1, 'Shashank', 21, 'AI Enginner')\n",
      "(2, 'Shashu', 25, 'Full Stack Developer')\n",
      "(3, 'Shreyas', 24, 'AI Enginner')\n"
     ]
    }
   ],
   "source": [
    "for data in rows:\n",
    "    print(data)"
   ]
  },
  {
   "cell_type": "code",
   "execution_count": null,
   "id": "3c0c358e",
   "metadata": {},
   "outputs": [],
   "source": []
  }
 ],
 "metadata": {
  "kernelspec": {
   "display_name": "Python 3",
   "language": "python",
   "name": "python3"
  },
  "language_info": {
   "codemirror_mode": {
    "name": "ipython",
    "version": 3
   },
   "file_extension": ".py",
   "mimetype": "text/x-python",
   "name": "python",
   "nbconvert_exporter": "python",
   "pygments_lexer": "ipython3",
   "version": "3.12.0"
  }
 },
 "nbformat": 4,
 "nbformat_minor": 5
}
