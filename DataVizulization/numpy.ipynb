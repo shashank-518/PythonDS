{
 "cells": [
  {
   "cell_type": "code",
   "execution_count": 1,
   "id": "029d7b6c",
   "metadata": {},
   "outputs": [
    {
     "name": "stdout",
     "output_type": "stream",
     "text": [
      "Collecting numpy\n",
      "  Downloading numpy-2.3.2-cp312-cp312-win_amd64.whl.metadata (60 kB)\n",
      "Downloading numpy-2.3.2-cp312-cp312-win_amd64.whl (12.8 MB)\n",
      "   ---------------------------------------- 0.0/12.8 MB ? eta -:--:--\n",
      "    --------------------------------------- 0.3/12.8 MB ? eta -:--:--\n",
      "   - -------------------------------------- 0.5/12.8 MB 1.7 MB/s eta 0:00:08\n",
      "   --- ------------------------------------ 1.0/12.8 MB 2.0 MB/s eta 0:00:06\n",
      "   ------ --------------------------------- 2.1/12.8 MB 3.0 MB/s eta 0:00:04\n",
      "   -------- ------------------------------- 2.6/12.8 MB 3.2 MB/s eta 0:00:04\n",
      "   ----------- ---------------------------- 3.7/12.8 MB 3.4 MB/s eta 0:00:03\n",
      "   -------------- ------------------------- 4.7/12.8 MB 3.8 MB/s eta 0:00:03\n",
      "   ----------------- ---------------------- 5.5/12.8 MB 3.7 MB/s eta 0:00:02\n",
      "   -------------------- ------------------- 6.6/12.8 MB 3.9 MB/s eta 0:00:02\n",
      "   ------------------------ --------------- 7.9/12.8 MB 4.1 MB/s eta 0:00:02\n",
      "   --------------------------- ------------ 8.7/12.8 MB 4.2 MB/s eta 0:00:01\n",
      "   ------------------------------ --------- 9.7/12.8 MB 4.3 MB/s eta 0:00:01\n",
      "   ---------------------------------- ----- 11.0/12.8 MB 4.4 MB/s eta 0:00:01\n",
      "   ------------------------------------ --- 11.8/12.8 MB 4.4 MB/s eta 0:00:01\n",
      "   ---------------------------------------  12.6/12.8 MB 4.3 MB/s eta 0:00:01\n",
      "   ---------------------------------------- 12.8/12.8 MB 4.3 MB/s eta 0:00:00\n",
      "Installing collected packages: numpy\n",
      "Successfully installed numpy-2.3.2\n"
     ]
    },
    {
     "name": "stderr",
     "output_type": "stream",
     "text": [
      "ERROR: pip's dependency resolver does not currently take into account all the packages that are installed. This behaviour is the source of the following dependency conflicts.\n",
      "keras 3.9.1 requires h5py, which is not installed.\n",
      "keras 3.9.1 requires rich, which is not installed.\n",
      "tensorboard 2.19.0 requires markdown>=2.6.8, which is not installed.\n",
      "tensorboard 2.19.0 requires protobuf!=4.24.0,>=3.19.6, which is not installed.\n",
      "tensorboard 2.19.0 requires werkzeug>=1.0.1, which is not installed.\n",
      "tensorflow 2.19.0 requires h5py>=3.11.0, which is not installed.\n",
      "tensorflow 2.19.0 requires protobuf!=4.21.0,!=4.21.1,!=4.21.2,!=4.21.3,!=4.21.4,!=4.21.5,<6.0.0dev,>=3.20.3, which is not installed.\n",
      "tensorflow 2.19.0 requires requests<3,>=2.21.0, which is not installed.\n",
      "tensorflow 2.19.0 requires typing-extensions>=3.6.6, which is not installed.\n",
      "tensorflow 2.19.0 requires wrapt>=1.11.0, which is not installed.\n",
      "tensorflow 2.19.0 requires numpy<2.2.0,>=1.26.0, but you have numpy 2.3.2 which is incompatible.\n"
     ]
    }
   ],
   "source": [
    "!pip install numpy"
   ]
  },
  {
   "cell_type": "code",
   "execution_count": 2,
   "id": "724e752d",
   "metadata": {},
   "outputs": [
    {
     "name": "stdout",
     "output_type": "stream",
     "text": [
      "[1 2 3 4 5]\n",
      "<class 'numpy.ndarray'>\n"
     ]
    }
   ],
   "source": [
    "import numpy as np \n",
    "arr1 = np.array([1,2,3,4,5])\n",
    "print(arr1)\n",
    "print(type(arr1))"
   ]
  },
  {
   "cell_type": "code",
   "execution_count": 4,
   "id": "0b035f1e",
   "metadata": {},
   "outputs": [
    {
     "data": {
      "text/plain": [
       "array([[1., 1., 1., 1., 1.],\n",
       "       [1., 1., 1., 1., 1.],\n",
       "       [1., 1., 1., 1., 1.]])"
      ]
     },
     "execution_count": 4,
     "metadata": {},
     "output_type": "execute_result"
    }
   ],
   "source": [
    "np.ones((3,5))"
   ]
  },
  {
   "cell_type": "code",
   "execution_count": 7,
   "id": "73908920",
   "metadata": {},
   "outputs": [
    {
     "data": {
      "text/plain": [
       "array([[1],\n",
       "       [2],\n",
       "       [3],\n",
       "       [4],\n",
       "       [5]])"
      ]
     },
     "execution_count": 7,
     "metadata": {},
     "output_type": "execute_result"
    }
   ],
   "source": [
    "arr1.reshape(5,1)"
   ]
  },
  {
   "cell_type": "code",
   "execution_count": 10,
   "id": "c332d72d",
   "metadata": {},
   "outputs": [
    {
     "data": {
      "text/plain": [
       "array([[ 0,  2],\n",
       "       [ 4,  6],\n",
       "       [ 8, 10]])"
      ]
     },
     "execution_count": 10,
     "metadata": {},
     "output_type": "execute_result"
    }
   ],
   "source": [
    "np.arange(0,12,2).reshape(3,2)"
   ]
  },
  {
   "cell_type": "code",
   "execution_count": 11,
   "id": "d372e03e",
   "metadata": {},
   "outputs": [
    {
     "name": "stdout",
     "output_type": "stream",
     "text": [
      "[ 7  9 11 13 15]\n",
      "[-5 -5 -5 -5 -5]\n",
      "[ 6 14 24 36 50]\n",
      "[0.16666667 0.28571429 0.375      0.44444444 0.5       ]\n"
     ]
    }
   ],
   "source": [
    "arr3 = np.array([1,2,3,4,5])\n",
    "arr4 = np.array([6,7,8,9,10]) \n",
    "\n",
    "print(arr3+arr4)\n",
    "print(arr3-arr4)\n",
    "print(arr3*arr4)\n",
    "print(arr3/arr4)"
   ]
  },
  {
   "cell_type": "code",
   "execution_count": 15,
   "id": "945605a7",
   "metadata": {},
   "outputs": [
    {
     "name": "stdout",
     "output_type": "stream",
     "text": [
      "3.0\n",
      "[-1.41421356 -0.70710678  0.          0.70710678  1.41421356]\n",
      "1.4142135623730951\n"
     ]
    }
   ],
   "source": [
    "data = np.array([1,2,3,4,5])\n",
    "\n",
    "mean = np.mean(data)\n",
    "std = np.std(data)\n",
    "\n",
    "normalization = (data-mean)/std\n",
    "\n",
    "print(mean)\n",
    "print(normalization)\n",
    "print(std)"
   ]
  },
  {
   "cell_type": "code",
   "execution_count": null,
   "id": "2d012d12",
   "metadata": {},
   "outputs": [],
   "source": []
  }
 ],
 "metadata": {
  "kernelspec": {
   "display_name": "Python 3",
   "language": "python",
   "name": "python3"
  },
  "language_info": {
   "codemirror_mode": {
    "name": "ipython",
    "version": 3
   },
   "file_extension": ".py",
   "mimetype": "text/x-python",
   "name": "python",
   "nbconvert_exporter": "python",
   "pygments_lexer": "ipython3",
   "version": "3.12.0"
  }
 },
 "nbformat": 4,
 "nbformat_minor": 5
}
