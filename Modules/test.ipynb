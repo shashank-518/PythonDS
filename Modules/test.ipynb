{
 "cells": [
  {
   "cell_type": "code",
   "execution_count": 1,
   "id": "f5a9a36b",
   "metadata": {},
   "outputs": [
    {
     "name": "stdout",
     "output_type": "stream",
     "text": [
      "8\n"
     ]
    }
   ],
   "source": [
    "from package.maths import add\n",
    "print(add(3,5))"
   ]
  },
  {
   "cell_type": "code",
   "execution_count": 2,
   "id": "f963ebd0",
   "metadata": {},
   "outputs": [
    {
     "name": "stdout",
     "output_type": "stream",
     "text": [
      "{\"name\": \"Shashank S\", \"age\": 25}\n",
      "<class 'str'>\n",
      "{'name': 'Shashank S', 'age': 25}\n",
      "<class 'dict'>\n"
     ]
    }
   ],
   "source": [
    "import json\n",
    "data = {\"name\":\"Shashank S\" , \"age\" : 25}\n",
    "\n",
    "jsonData = json.dumps(data)\n",
    "print(jsonData)\n",
    "print(type(jsonData))\n",
    "\n",
    "con = json.loads(jsonData)\n",
    "print(con)\n",
    "print(type(con))\n"
   ]
  },
  {
   "cell_type": "code",
   "execution_count": 4,
   "id": "94236cf6",
   "metadata": {},
   "outputs": [
    {
     "name": "stdout",
     "output_type": "stream",
     "text": [
      "['name', 'age', 'gender']\n",
      "['shashank', '21', 'male']\n",
      "['mizba', '20', 'female']\n"
     ]
    }
   ],
   "source": [
    "import csv\n",
    "\n",
    "with open(\"example.csv\" , mode='w' , newline='') as file:\n",
    "    writer = csv.writer(file)\n",
    "    writer.writerow(['name','age','gender'])\n",
    "    writer.writerow(['shashank',21,'male'])\n",
    "    writer.writerow(['mizba',20,'female'])\n",
    "\n",
    "with open(\"example.csv\" , mode='r' , newline='') as file:\n",
    "    reader = csv.reader(file)\n",
    "    for row in reader:\n",
    "        print(row)\n"
   ]
  },
  {
   "cell_type": "code",
   "execution_count": 11,
   "id": "25619020",
   "metadata": {},
   "outputs": [
    {
     "name": "stdout",
     "output_type": "stream",
     "text": [
      "hello i am shashank\n",
      "how are you\n"
     ]
    }
   ],
   "source": [
    "with open('example.txt', mode='r') as file:\n",
    "    for data in file:\n",
    "        print(data.strip())"
   ]
  },
  {
   "cell_type": "code",
   "execution_count": 13,
   "id": "2d95575a",
   "metadata": {},
   "outputs": [],
   "source": [
    "with open(\"example.txt\", mode=\"w\") as file:\n",
    "    file.write(\"This is a new file. \\n\")\n",
    "    file.write(\"I am Shashank S\")"
   ]
  },
  {
   "cell_type": "code",
   "execution_count": 15,
   "id": "e7516e30",
   "metadata": {},
   "outputs": [],
   "source": [
    "with open(\"example.txt\" ,mode=\"r\") as source:\n",
    "    content = source.read()\n",
    "\n",
    "with open(\"dest.txt\" , mode=\"w\") as src:\n",
    "    src.write(content)\n",
    "\n",
    "\n",
    "\n"
   ]
  },
  {
   "cell_type": "code",
   "execution_count": null,
   "id": "813c847d",
   "metadata": {},
   "outputs": [],
   "source": []
  }
 ],
 "metadata": {
  "kernelspec": {
   "display_name": "Python 3",
   "language": "python",
   "name": "python3"
  },
  "language_info": {
   "codemirror_mode": {
    "name": "ipython",
    "version": 3
   },
   "file_extension": ".py",
   "mimetype": "text/x-python",
   "name": "python",
   "nbconvert_exporter": "python",
   "pygments_lexer": "ipython3",
   "version": "3.12.0"
  }
 },
 "nbformat": 4,
 "nbformat_minor": 5
}
